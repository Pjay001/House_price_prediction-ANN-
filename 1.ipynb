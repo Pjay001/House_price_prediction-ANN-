{
  "cells": [
    {
      "cell_type": "code",
      "execution_count": null,
      "metadata": {
        "id": "5835224e"
      },
      "outputs": [],
      "source": [
        "import pandas as pd\n",
        "import matplotlib.pyplot as plt\n",
        "import numpy as np\n",
        "import torch\n",
        "from torch import nn"
      ],
      "id": "5835224e"
    },
    {
      "cell_type": "code",
      "execution_count": null,
      "metadata": {
        "colab": {
          "base_uri": "https://localhost:8080/"
        },
        "id": "3a4c5c5e",
        "outputId": "648dd2e8-14a9-4874-cd2a-a3073fb4cb44"
      },
      "outputs": [
        {
          "output_type": "stream",
          "name": "stdout",
          "text": [
            "A cuda device was detected.\n",
            "Tesla T4\n"
          ]
        }
      ],
      "source": [
        "# Check to see if we have a GPU to use for training\n",
        "device = 'cuda' if torch.cuda.is_available() else 'CPU'\n",
        "print('A {} device was detected.'.format(device))\n",
        "\n",
        "# Print the name of the cuda device, if detected\n",
        "if device=='cuda':\n",
        "    print (torch.torch.cuda.get_device_name(device=device))"
      ],
      "id": "3a4c5c5e"
    },
    {
      "cell_type": "code",
      "execution_count": null,
      "metadata": {
        "id": "9a619ca0",
        "scrolled": false
      },
      "outputs": [],
      "source": [
        "df=pd.read_csv(\"dataset.csv\")\n",
        "# k=df.corr()\n",
        "# k['Price'].sort_values()"
      ],
      "id": "9a619ca0"
    },
    {
      "cell_type": "code",
      "source": [
        "df.describe()"
      ],
      "metadata": {
        "id": "L22Su04nVv8P"
      },
      "id": "L22Su04nVv8P",
      "execution_count": null,
      "outputs": []
    },
    {
      "cell_type": "code",
      "execution_count": null,
      "metadata": {
        "colab": {
          "base_uri": "https://localhost:8080/"
        },
        "id": "41ec7ba8",
        "outputId": "cd156764-de87-4e90-ad01-d41787620695"
      },
      "outputs": [
        {
          "data": {
            "text/plain": [
              "(5711, 41)"
            ]
          },
          "execution_count": 5,
          "metadata": {},
          "output_type": "execute_result"
        }
      ],
      "source": [
        "k=df\n",
        "k = k[ (k['Price'] <= 45000000)]\n",
        "k.shape"
      ],
      "id": "41ec7ba8"
    },
    {
      "cell_type": "code",
      "source": [
        "# df['Price']  = df['Price']/10\n",
        "# df['Price']  = df['Price']*10"
      ],
      "metadata": {
        "id": "MK2_6tiyq8jF"
      },
      "id": "MK2_6tiyq8jF",
      "execution_count": null,
      "outputs": []
    },
    {
      "cell_type": "code",
      "source": [
        "len(df)"
      ],
      "metadata": {
        "colab": {
          "base_uri": "https://localhost:8080/"
        },
        "id": "AePeby0p2lV7",
        "outputId": "c840b7dc-cd36-4793-d578-2bf238323051"
      },
      "id": "AePeby0p2lV7",
      "execution_count": null,
      "outputs": [
        {
          "output_type": "execute_result",
          "data": {
            "text/plain": [
              "6950"
            ]
          },
          "metadata": {},
          "execution_count": 72
        }
      ]
    },
    {
      "cell_type": "code",
      "source": [
        "# df = df[ (df['Price'] <=10) ]"
      ],
      "metadata": {
        "id": "gj8-FhFO2yyd"
      },
      "id": "gj8-FhFO2yyd",
      "execution_count": null,
      "outputs": []
    },
    {
      "cell_type": "code",
      "source": [
        "#  df[ (df['Price'] >=10) ].count()"
      ],
      "metadata": {
        "id": "QZXwPRe_2dEM"
      },
      "id": "QZXwPRe_2dEM",
      "execution_count": null,
      "outputs": []
    },
    {
      "cell_type": "code",
      "source": [
        "# df = df[ (df['Price'] <= 50) ]\n",
        "\n",
        "# scale  0 -75 lakhs"
      ],
      "metadata": {
        "id": "1NOKGgXfrPoz"
      },
      "id": "1NOKGgXfrPoz",
      "execution_count": null,
      "outputs": []
    },
    {
      "cell_type": "code",
      "source": [
        "# scale_min"
      ],
      "metadata": {
        "colab": {
          "base_uri": "https://localhost:8080/"
        },
        "id": "fL_rqfXV2Vzs",
        "outputId": "5307b54b-6e01-4352-f095-d4ffe26c5e9a"
      },
      "id": "fL_rqfXV2Vzs",
      "execution_count": null,
      "outputs": [
        {
          "output_type": "execute_result",
          "data": {
            "text/plain": [
              "2.0"
            ]
          },
          "metadata": {},
          "execution_count": 65
        }
      ]
    },
    {
      "cell_type": "code",
      "execution_count": null,
      "metadata": {
        "colab": {
          "base_uri": "https://localhost:8080/",
          "height": 1000
        },
        "id": "4cdc1382",
        "outputId": "9f97da0b-4300-4842-dbc3-73a234b625ca",
        "scrolled": true
      },
      "outputs": [
        {
          "output_type": "display_data",
          "data": {
            "text/plain": [
              "<Figure size 640x480 with 1 Axes>"
            ],
            "image/png": "[encoded data removed]"
          },
          "metadata": {}
        },
        {
          "output_type": "display_data",
          "data": {
            "text/plain": [
              "<Figure size 640x480 with 1 Axes>"
            ],
            "image/png": "[encoded data removed]"
          },
          "metadata": {}
        },
        {
          "output_type": "display_data",
          "data": {
            "text/plain": [
              "<Figure size 640x480 with 1 Axes>"
            ],
            "image/png": "[encoded data removed]"
          },
          "metadata": {}
        },
        {
          "output_type": "display_data",
          "data": {
            "text/plain": [
              "<Figure size 640x480 with 1 Axes>"
            ],
            "image/png": "[encoded data removed]"
          },
          "metadata": {}
        },
        {
          "output_type": "display_data",
          "data": {
            "text/plain": [
              "<Figure size 640x480 with 1 Axes>"
            ],
            "image/png": "[encoded data removed]"
          },
          "metadata": {}
        }
      ],
      "source": [
        "for i in feature_names:\n",
        "  plt.scatter(df['Price'],df[i])\n",
        "  plt.ylabel(i)\n",
        "  plt.xlabel('price')\n",
        "  plt.show()"
      ],
      "id": "4cdc1382"
    },
    {
      "cell_type": "code",
      "execution_count": null,
      "metadata": {
        "id": "d0e1a383",
        "scrolled": true
      },
      "outputs": [],
      "source": [
        "for col in df:\n",
        "    if(col != \"Area\" and col != \"Price\" ):\n",
        "        print(col+\" : \",df[col].unique())"
      ],
      "id": "d0e1a383"
    },
    {
      "cell_type": "code",
      "execution_count": null,
      "metadata": {
        "id": "Be6DBPeJ7Oji"
      },
      "outputs": [],
      "source": [
        "df = df.dropna()"
      ],
      "id": "Be6DBPeJ7Oji"
    },
    {
      "cell_type": "code",
      "execution_count": null,
      "metadata": {
        "colab": {
          "base_uri": "https://localhost:8080/",
          "height": 300
        },
        "id": "320acbcc",
        "outputId": "0974da04-e2e1-4c74-ebb3-46cd856c0bd4",
        "scrolled": true
      },
      "outputs": [
        {
          "output_type": "execute_result",
          "data": {
            "text/plain": [
              "              Area  No. of Bedrooms     Wardrobe           AC   Playground\n",
              "count  6950.000000      6950.000000  6950.000000  6950.000000  6950.000000\n",
              "mean      0.313262         0.302986     0.012518     0.030504     0.433381\n",
              "std       0.125547         0.162413     0.111189     0.171981     0.495578\n",
              "min       0.000000         0.000000     0.000000     0.000000     0.000000\n",
              "25%       0.217857         0.250000     0.000000     0.000000     0.000000\n",
              "50%       0.314286         0.250000     0.000000     0.000000     0.000000\n",
              "75%       0.391071         0.500000     0.000000     0.000000     1.000000\n",
              "max       1.000000         1.000000     1.000000     1.000000     1.000000"
            ],
            "text/html": [
              "\n",
              "  <div id=\"df-e84a619d-b0d1-49f4-9617-f24bac8df640\">\n",
              "    <div class=\"colab-df-container\">\n",
              "      <div>\n",
              "<style scoped>\n",
              "    .dataframe tbody tr th:only-of-type {\n",
              "        vertical-align: middle;\n",
              "    }\n",
              "\n",
              "    .dataframe tbody tr th {\n",
              "        vertical-align: top;\n",
              "    }\n",
              "\n",
              "    .dataframe thead th {\n",
              "        text-align: right;\n",
              "    }\n",
              "</style>\n",
              "<table border=\"1\" class=\"dataframe\">\n",
              "  <thead>\n",
              "    <tr style=\"text-align: right;\">\n",
              "      <th></th>\n",
              "      <th>Area</th>\n",
              "      <th>No. of Bedrooms</th>\n",
              "      <th>Wardrobe</th>\n",
              "      <th>AC</th>\n",
              "      <th>Playground</th>\n",
              "    </tr>\n",
              "  </thead>\n",
              "  <tbody>\n",
              "    <tr>\n",
              "      <th>count</th>\n",
              "      <td>6950.000000</td>\n",
              "      <td>6950.000000</td>\n",
              "      <td>6950.000000</td>\n",
              "      <td>6950.000000</td>\n",
              "      <td>6950.000000</td>\n",
              "    </tr>\n",
              "    <tr>\n",
              "      <th>mean</th>\n",
              "      <td>0.313262</td>\n",
              "      <td>0.302986</td>\n",
              "      <td>0.012518</td>\n",
              "      <td>0.030504</td>\n",
              "      <td>0.433381</td>\n",
              "    </tr>\n",
              "    <tr>\n",
              "      <th>std</th>\n",
              "      <td>0.125547</td>\n",
              "      <td>0.162413</td>\n",
              "      <td>0.111189</td>\n",
              "      <td>0.171981</td>\n",
              "      <td>0.495578</td>\n",
              "    </tr>\n",
              "    <tr>\n",
              "      <th>min</th>\n",
              "      <td>0.000000</td>\n",
              "      <td>0.000000</td>\n",
              "      <td>0.000000</td>\n",
              "      <td>0.000000</td>\n",
              "      <td>0.000000</td>\n",
              "    </tr>\n",
              "    <tr>\n",
              "      <th>25%</th>\n",
              "      <td>0.217857</td>\n",
              "      <td>0.250000</td>\n",
              "      <td>0.000000</td>\n",
              "      <td>0.000000</td>\n",
              "      <td>0.000000</td>\n",
              "    </tr>\n",
              "    <tr>\n",
              "      <th>50%</th>\n",
              "      <td>0.314286</td>\n",
              "      <td>0.250000</td>\n",
              "      <td>0.000000</td>\n",
              "      <td>0.000000</td>\n",
              "      <td>0.000000</td>\n",
              "    </tr>\n",
              "    <tr>\n",
              "      <th>75%</th>\n",
              "      <td>0.391071</td>\n",
              "      <td>0.500000</td>\n",
              "      <td>0.000000</td>\n",
              "      <td>0.000000</td>\n",
              "      <td>1.000000</td>\n",
              "    </tr>\n",
              "    <tr>\n",
              "      <th>max</th>\n",
              "      <td>1.000000</td>\n",
              "      <td>1.000000</td>\n",
              "      <td>1.000000</td>\n",
              "      <td>1.000000</td>\n",
              "      <td>1.000000</td>\n",
              "    </tr>\n",
              "  </tbody>\n",
              "</table>\n",
              "</div>\n",
              "      <button class=\"colab-df-convert\" onclick=\"convertToInteractive('df-e84a619d-b0d1-49f4-9617-f24bac8df640')\"\n",
              "              title=\"Convert this dataframe to an interactive table.\"\n",
              "              style=\"display:none;\">\n",
              "        \n",
              "  <svg xmlns=\"http://www.w3.org/2000/svg\" height=\"24px\"viewBox=\"0 0 24 24\"\n",
              "       width=\"24px\">\n",
              "    <path d=\"M0 0h24v24H0V0z\" fill=\"none\"/>\n",
              "    <path d=\"M18.56 5.44l.94 2.06.94-2.06 2.06-.94-2.06-.94-.94-2.06-.94 2.06-2.06.94zm-11 1L8.5 8.5l.94-2.06 2.06-.94-2.06-.94L8.5 2.5l-.94 2.06-2.06.94zm10 10l.94 2.06.94-2.06 2.06-.94-2.06-.94-.94-2.06-.94 2.06-2.06.94z\"/><path d=\"M17.41 7.96l-1.37-1.37c-.4-.4-.92-.59-1.43-.59-.52 0-1.04.2-1.43.59L10.3 9.45l-7.72 7.72c-.78.78-.78 2.05 0 2.83L4 21.41c.39.39.9.59 1.41.59.51 0 1.02-.2 1.41-.59l7.78-7.78 2.81-2.81c.8-.78.8-2.07 0-2.86zM5.41 20L4 18.59l7.72-7.72 1.47 1.35L5.41 20z\"/>\n",
              "  </svg>\n",
              "      </button>\n",
              "      \n",
              "  <style>\n",
              "    .colab-df-container {\n",
              "      display:flex;\n",
              "      flex-wrap:wrap;\n",
              "      gap: 12px;\n",
              "    }\n",
              "\n",
              "    .colab-df-convert {\n",
              "      background-color: #E8F0FE;\n",
              "      border: none;\n",
              "      border-radius: 50%;\n",
              "      cursor: pointer;\n",
              "      display: none;\n",
              "      fill: #1967D2;\n",
              "      height: 32px;\n",
              "      padding: 0 0 0 0;\n",
              "      width: 32px;\n",
              "    }\n",
              "\n",
              "    .colab-df-convert:hover {\n",
              "      background-color: #E2EBFA;\n",
              "      box-shadow: 0px 1px 2px rgba(60, 64, 67, 0.3), 0px 1px 3px 1px rgba(60, 64, 67, 0.15);\n",
              "      fill: #174EA6;\n",
              "    }\n",
              "\n",
              "    [theme=dark] .colab-df-convert {\n",
              "      background-color: #3B4455;\n",
              "      fill: #D2E3FC;\n",
              "    }\n",
              "\n",
              "    [theme=dark] .colab-df-convert:hover {\n",
              "      background-color: #434B5C;\n",
              "      box-shadow: 0px 1px 3px 1px rgba(0, 0, 0, 0.15);\n",
              "      filter: drop-shadow(0px 1px 2px rgba(0, 0, 0, 0.3));\n",
              "      fill: #FFFFFF;\n",
              "    }\n",
              "  </style>\n",
              "\n",
              "      <script>\n",
              "        const buttonEl =\n",
              "          document.querySelector('#df-e84a619d-b0d1-49f4-9617-f24bac8df640 button.colab-df-convert');\n",
              "        buttonEl.style.display =\n",
              "          google.colab.kernel.accessAllowed ? 'block' : 'none';\n",
              "\n",
              "        async function convertToInteractive(key) {\n",
              "          const element = document.querySelector('#df-e84a619d-b0d1-49f4-9617-f24bac8df640');\n",
              "          const dataTable =\n",
              "            await google.colab.kernel.invokeFunction('convertToInteractive',\n",
              "                                                     [key], {});\n",
              "          if (!dataTable) return;\n",
              "\n",
              "          const docLinkHtml = 'Like what you see? Visit the ' +\n",
              "            '<a target=\"_blank\" href=https://colab.research.google.com/notebooks/data_table.ipynb>data table notebook</a>'\n",
              "            + ' to learn more about interactive tables.';\n",
              "          element.innerHTML = '';\n",
              "          dataTable['output_type'] = 'display_data';\n",
              "          await google.colab.output.renderOutput(dataTable, element);\n",
              "          const docLink = document.createElement('div');\n",
              "          docLink.innerHTML = docLinkHtml;\n",
              "          element.appendChild(docLink);\n",
              "        }\n",
              "      </script>\n",
              "    </div>\n",
              "  </div>\n",
              "  "
            ]
          },
          "metadata": {},
          "execution_count": 11
        }
      ],
      "source": [
        "df[feature_names].describe()"
      ],
      "id": "320acbcc"
    },
    {
      "cell_type": "code",
      "source": [
        "# df['Price'] = df['Price']/100"
      ],
      "metadata": {
        "id": "Tq7caFF741oE"
      },
      "id": "Tq7caFF741oE",
      "execution_count": null,
      "outputs": []
    },
    {
      "cell_type": "code",
      "source": [
        "# df.to_csv('train.csv',index=False)"
      ],
      "metadata": {
        "id": "UetpymWC_gcn"
      },
      "id": "UetpymWC_gcn",
      "execution_count": null,
      "outputs": []
    },
    {
      "cell_type": "code",
      "source": [
        "# df.columns\n",
        "# df['Playground'] = df[\"Children'splayarea\"]\n",
        "# del df[\"Children'splayarea\"]"
      ],
      "metadata": {
        "id": "cQle5LJDsyMs"
      },
      "id": "cQle5LJDsyMs",
      "execution_count": null,
      "outputs": []
    },
    {
      "cell_type": "code",
      "source": [
        "df = pd.read_csv('train.csv')\n",
        "test_df"
      ],
      "metadata": {
        "id": "S9dDOvxZATkU",
        "colab": {
          "base_uri": "https://localhost:8080/",
          "height": 609
        },
        "outputId": "9b59b3f5-1ecc-48f4-f071-5505e0049530"
      },
      "id": "S9dDOvxZATkU",
      "execution_count": null,
      "outputs": [
        {
          "output_type": "execute_result",
          "data": {
            "text/plain": [
              "         Price      Area                         Location       City  \\\n",
              "0     0.736000  0.301786       Dasarahalli on Tumkur Road  Bangalore   \n",
              "1     0.358250  0.349643  Kannur on Thanisandra Main Road  Bangalore   \n",
              "2     0.794750  0.526786                     Doddanekundi  Bangalore   \n",
              "3     0.605625  0.525000                          Kengeri  Bangalore   \n",
              "4     0.599625  0.364286                         Horamavu  Bangalore   \n",
              "...        ...       ...                              ...        ...   \n",
              "6945  0.800000  0.273214                   Mira Road East     Mumbai   \n",
              "6946  0.678750  0.273214                   Mira Road East     Mumbai   \n",
              "6947  0.012500  0.089286                 Sector-26 Taloja     Mumbai   \n",
              "6948  0.162500  0.167857                          Koproli     Mumbai   \n",
              "6949  0.062500  0.121429                       Virar East     Mumbai   \n",
              "\n",
              "      No. of Bedrooms  Resale  MaintenanceStaff  Gymnasium  SwimmingPool  \\\n",
              "0                0.25       0               0.0        1.0           1.0   \n",
              "1                0.25       0               0.0        1.0           1.0   \n",
              "2                0.50       0               0.0        0.0           0.0   \n",
              "3                0.50       0               1.0        1.0           1.0   \n",
              "4                0.25       0               0.0        1.0           1.0   \n",
              "...               ...     ...               ...        ...           ...   \n",
              "6945             0.25       0               0.0        1.0           1.0   \n",
              "6946             0.25       0               0.0        1.0           1.0   \n",
              "6947             0.00       1               0.0        1.0           1.0   \n",
              "6948             0.00       1               0.0        1.0           1.0   \n",
              "6949             0.00       0               0.0        0.0           0.0   \n",
              "\n",
              "      LandscapedGardens  ...  BED  VaastuCompliant  Microwave  GolfCourse  \\\n",
              "0                   1.0  ...  0.0              1.0        0.0         0.0   \n",
              "1                   1.0  ...  0.0              0.0        0.0         0.0   \n",
              "2                   0.0  ...  0.0              0.0        0.0         0.0   \n",
              "3                   1.0  ...  0.0              0.0        0.0         0.0   \n",
              "4                   1.0  ...  0.0              0.0        0.0         0.0   \n",
              "...                 ...  ...  ...              ...        ...         ...   \n",
              "6945                1.0  ...  0.0              1.0        0.0         0.0   \n",
              "6946                1.0  ...  0.0              1.0        0.0         0.0   \n",
              "6947                0.0  ...  0.0              0.0        0.0         1.0   \n",
              "6948                1.0  ...  0.0              1.0        0.0         0.0   \n",
              "6949                0.0  ...  0.0              0.0        0.0         0.0   \n",
              "\n",
              "       TV  DiningTable  Sofa  Wardrobe  Refrigerator  Playground  \n",
              "0     0.0          0.0   0.0       0.0           0.0         1.0  \n",
              "1     0.0          0.0   0.0       0.0           0.0         1.0  \n",
              "2     0.0          0.0   0.0       0.0           0.0         0.0  \n",
              "3     0.0          0.0   0.0       0.0           0.0         1.0  \n",
              "4     0.0          0.0   0.0       0.0           0.0         1.0  \n",
              "...   ...          ...   ...       ...           ...         ...  \n",
              "6945  0.0          0.0   0.0       0.0           0.0         1.0  \n",
              "6946  0.0          0.0   0.0       0.0           0.0         1.0  \n",
              "6947  0.0          0.0   0.0       0.0           0.0         0.0  \n",
              "6948  0.0          0.0   0.0       0.0           0.0         1.0  \n",
              "6949  0.0          0.0   0.0       0.0           0.0         0.0  \n",
              "\n",
              "[6950 rows x 41 columns]"
            ],
            "text/html": [
              "\n",
              "  <div id=\"df-7a537042-c57f-482e-ada8-4729e856c490\">\n",
              "    <div class=\"colab-df-container\">\n",
              "      <div>\n",
              "<style scoped>\n",
              "    .dataframe tbody tr th:only-of-type {\n",
              "        vertical-align: middle;\n",
              "    }\n",
              "\n",
              "    .dataframe tbody tr th {\n",
              "        vertical-align: top;\n",
              "    }\n",
              "\n",
              "    .dataframe thead th {\n",
              "        text-align: right;\n",
              "    }\n",
              "</style>\n",
              "<table border=\"1\" class=\"dataframe\">\n",
              "  <thead>\n",
              "    <tr style=\"text-align: right;\">\n",
              "      <th></th>\n",
              "      <th>Price</th>\n",
              "      <th>Area</th>\n",
              "      <th>Location</th>\n",
              "      <th>City</th>\n",
              "      <th>No. of Bedrooms</th>\n",
              "      <th>Resale</th>\n",
              "      <th>MaintenanceStaff</th>\n",
              "      <th>Gymnasium</th>\n",
              "      <th>SwimmingPool</th>\n",
              "      <th>LandscapedGardens</th>\n",
              "      <th>...</th>\n",
              "      <th>BED</th>\n",
              "      <th>VaastuCompliant</th>\n",
              "      <th>Microwave</th>\n",
              "      <th>GolfCourse</th>\n",
              "      <th>TV</th>\n",
              "      <th>DiningTable</th>\n",
              "      <th>Sofa</th>\n",
              "      <th>Wardrobe</th>\n",
              "      <th>Refrigerator</th>\n",
              "      <th>Playground</th>\n",
              "    </tr>\n",
              "  </thead>\n",
              "  <tbody>\n",
              "    <tr>\n",
              "      <th>0</th>\n",
              "      <td>0.736000</td>\n",
              "      <td>0.301786</td>\n",
              "      <td>Dasarahalli on Tumkur Road</td>\n",
              "      <td>Bangalore</td>\n",
              "      <td>0.25</td>\n",
              "      <td>0</td>\n",
              "      <td>0.0</td>\n",
              "      <td>1.0</td>\n",
              "      <td>1.0</td>\n",
              "      <td>1.0</td>\n",
              "      <td>...</td>\n",
              "      <td>0.0</td>\n",
              "      <td>1.0</td>\n",
              "      <td>0.0</td>\n",
              "      <td>0.0</td>\n",
              "      <td>0.0</td>\n",
              "      <td>0.0</td>\n",
              "      <td>0.0</td>\n",
              "      <td>0.0</td>\n",
              "      <td>0.0</td>\n",
              "      <td>1.0</td>\n",
              "    </tr>\n",
              "    <tr>\n",
              "      <th>1</th>\n",
              "      <td>0.358250</td>\n",
              "      <td>0.349643</td>\n",
              "      <td>Kannur on Thanisandra Main Road</td>\n",
              "      <td>Bangalore</td>\n",
              "      <td>0.25</td>\n",
              "      <td>0</td>\n",
              "      <td>0.0</td>\n",
              "      <td>1.0</td>\n",
              "      <td>1.0</td>\n",
              "      <td>1.0</td>\n",
              "      <td>...</td>\n",
              "      <td>0.0</td>\n",
              "      <td>0.0</td>\n",
              "      <td>0.0</td>\n",
              "      <td>0.0</td>\n",
              "      <td>0.0</td>\n",
              "      <td>0.0</td>\n",
              "      <td>0.0</td>\n",
              "      <td>0.0</td>\n",
              "      <td>0.0</td>\n",
              "      <td>1.0</td>\n",
              "    </tr>\n",
              "    <tr>\n",
              "      <th>2</th>\n",
              "      <td>0.794750</td>\n",
              "      <td>0.526786</td>\n",
              "      <td>Doddanekundi</td>\n",
              "      <td>Bangalore</td>\n",
              "      <td>0.50</td>\n",
              "      <td>0</td>\n",
              "      <td>0.0</td>\n",
              "      <td>0.0</td>\n",
              "      <td>0.0</td>\n",
              "      <td>0.0</td>\n",
              "      <td>...</td>\n",
              "      <td>0.0</td>\n",
              "      <td>0.0</td>\n",
              "      <td>0.0</td>\n",
              "      <td>0.0</td>\n",
              "      <td>0.0</td>\n",
              "      <td>0.0</td>\n",
              "      <td>0.0</td>\n",
              "      <td>0.0</td>\n",
              "      <td>0.0</td>\n",
              "      <td>0.0</td>\n",
              "    </tr>\n",
              "    <tr>\n",
              "      <th>3</th>\n",
              "      <td>0.605625</td>\n",
              "      <td>0.525000</td>\n",
              "      <td>Kengeri</td>\n",
              "      <td>Bangalore</td>\n",
              "      <td>0.50</td>\n",
              "      <td>0</td>\n",
              "      <td>1.0</td>\n",
              "      <td>1.0</td>\n",
              "      <td>1.0</td>\n",
              "      <td>1.0</td>\n",
              "      <td>...</td>\n",
              "      <td>0.0</td>\n",
              "      <td>0.0</td>\n",
              "      <td>0.0</td>\n",
              "      <td>0.0</td>\n",
              "      <td>0.0</td>\n",
              "      <td>0.0</td>\n",
              "      <td>0.0</td>\n",
              "      <td>0.0</td>\n",
              "      <td>0.0</td>\n",
              "      <td>1.0</td>\n",
              "    </tr>\n",
              "    <tr>\n",
              "      <th>4</th>\n",
              "      <td>0.599625</td>\n",
              "      <td>0.364286</td>\n",
              "      <td>Horamavu</td>\n",
              "      <td>Bangalore</td>\n",
              "      <td>0.25</td>\n",
              "      <td>0</td>\n",
              "      <td>0.0</td>\n",
              "      <td>1.0</td>\n",
              "      <td>1.0</td>\n",
              "      <td>1.0</td>\n",
              "      <td>...</td>\n",
              "      <td>0.0</td>\n",
              "      <td>0.0</td>\n",
              "      <td>0.0</td>\n",
              "      <td>0.0</td>\n",
              "      <td>0.0</td>\n",
              "      <td>0.0</td>\n",
              "      <td>0.0</td>\n",
              "      <td>0.0</td>\n",
              "      <td>0.0</td>\n",
              "      <td>1.0</td>\n",
              "    </tr>\n",
              "    <tr>\n",
              "      <th>...</th>\n",
              "      <td>...</td>\n",
              "      <td>...</td>\n",
              "      <td>...</td>\n",
              "      <td>...</td>\n",
              "      <td>...</td>\n",
              "      <td>...</td>\n",
              "      <td>...</td>\n",
              "      <td>...</td>\n",
              "      <td>...</td>\n",
              "      <td>...</td>\n",
              "      <td>...</td>\n",
              "      <td>...</td>\n",
              "      <td>...</td>\n",
              "      <td>...</td>\n",
              "      <td>...</td>\n",
              "      <td>...</td>\n",
              "      <td>...</td>\n",
              "      <td>...</td>\n",
              "      <td>...</td>\n",
              "      <td>...</td>\n",
              "      <td>...</td>\n",
              "    </tr>\n",
              "    <tr>\n",
              "      <th>6945</th>\n",
              "      <td>0.800000</td>\n",
              "      <td>0.273214</td>\n",
              "      <td>Mira Road East</td>\n",
              "      <td>Mumbai</td>\n",
              "      <td>0.25</td>\n",
              "      <td>0</td>\n",
              "      <td>0.0</td>\n",
              "      <td>1.0</td>\n",
              "      <td>1.0</td>\n",
              "      <td>1.0</td>\n",
              "      <td>...</td>\n",
              "      <td>0.0</td>\n",
              "      <td>1.0</td>\n",
              "      <td>0.0</td>\n",
              "      <td>0.0</td>\n",
              "      <td>0.0</td>\n",
              "      <td>0.0</td>\n",
              "      <td>0.0</td>\n",
              "      <td>0.0</td>\n",
              "      <td>0.0</td>\n",
              "      <td>1.0</td>\n",
              "    </tr>\n",
              "    <tr>\n",
              "      <th>6946</th>\n",
              "      <td>0.678750</td>\n",
              "      <td>0.273214</td>\n",
              "      <td>Mira Road East</td>\n",
              "      <td>Mumbai</td>\n",
              "      <td>0.25</td>\n",
              "      <td>0</td>\n",
              "      <td>0.0</td>\n",
              "      <td>1.0</td>\n",
              "      <td>1.0</td>\n",
              "      <td>1.0</td>\n",
              "      <td>...</td>\n",
              "      <td>0.0</td>\n",
              "      <td>1.0</td>\n",
              "      <td>0.0</td>\n",
              "      <td>0.0</td>\n",
              "      <td>0.0</td>\n",
              "      <td>0.0</td>\n",
              "      <td>0.0</td>\n",
              "      <td>0.0</td>\n",
              "      <td>0.0</td>\n",
              "      <td>1.0</td>\n",
              "    </tr>\n",
              "    <tr>\n",
              "      <th>6947</th>\n",
              "      <td>0.012500</td>\n",
              "      <td>0.089286</td>\n",
              "      <td>Sector-26 Taloja</td>\n",
              "      <td>Mumbai</td>\n",
              "      <td>0.00</td>\n",
              "      <td>1</td>\n",
              "      <td>0.0</td>\n",
              "      <td>1.0</td>\n",
              "      <td>1.0</td>\n",
              "      <td>0.0</td>\n",
              "      <td>...</td>\n",
              "      <td>0.0</td>\n",
              "      <td>0.0</td>\n",
              "      <td>0.0</td>\n",
              "      <td>1.0</td>\n",
              "      <td>0.0</td>\n",
              "      <td>0.0</td>\n",
              "      <td>0.0</td>\n",
              "      <td>0.0</td>\n",
              "      <td>0.0</td>\n",
              "      <td>0.0</td>\n",
              "    </tr>\n",
              "    <tr>\n",
              "      <th>6948</th>\n",
              "      <td>0.162500</td>\n",
              "      <td>0.167857</td>\n",
              "      <td>Koproli</td>\n",
              "      <td>Mumbai</td>\n",
              "      <td>0.00</td>\n",
              "      <td>1</td>\n",
              "      <td>0.0</td>\n",
              "      <td>1.0</td>\n",
              "      <td>1.0</td>\n",
              "      <td>1.0</td>\n",
              "      <td>...</td>\n",
              "      <td>0.0</td>\n",
              "      <td>1.0</td>\n",
              "      <td>0.0</td>\n",
              "      <td>0.0</td>\n",
              "      <td>0.0</td>\n",
              "      <td>0.0</td>\n",
              "      <td>0.0</td>\n",
              "      <td>0.0</td>\n",
              "      <td>0.0</td>\n",
              "      <td>1.0</td>\n",
              "    </tr>\n",
              "    <tr>\n",
              "      <th>6949</th>\n",
              "      <td>0.062500</td>\n",
              "      <td>0.121429</td>\n",
              "      <td>Virar East</td>\n",
              "      <td>Mumbai</td>\n",
              "      <td>0.00</td>\n",
              "      <td>0</td>\n",
              "      <td>0.0</td>\n",
              "      <td>0.0</td>\n",
              "      <td>0.0</td>\n",
              "      <td>0.0</td>\n",
              "      <td>...</td>\n",
              "      <td>0.0</td>\n",
              "      <td>0.0</td>\n",
              "      <td>0.0</td>\n",
              "      <td>0.0</td>\n",
              "      <td>0.0</td>\n",
              "      <td>0.0</td>\n",
              "      <td>0.0</td>\n",
              "      <td>0.0</td>\n",
              "      <td>0.0</td>\n",
              "      <td>0.0</td>\n",
              "    </tr>\n",
              "  </tbody>\n",
              "</table>\n",
              "<p>6950 rows × 41 columns</p>\n",
              "</div>\n",
              "      <button class=\"colab-df-convert\" onclick=\"convertToInteractive('df-7a537042-c57f-482e-ada8-4729e856c490')\"\n",
              "              title=\"Convert this dataframe to an interactive table.\"\n",
              "              style=\"display:none;\">\n",
              "        \n",
              "  <svg xmlns=\"http://www.w3.org/2000/svg\" height=\"24px\"viewBox=\"0 0 24 24\"\n",
              "       width=\"24px\">\n",
              "    <path d=\"M0 0h24v24H0V0z\" fill=\"none\"/>\n",
              "    <path d=\"M18.56 5.44l.94 2.06.94-2.06 2.06-.94-2.06-.94-.94-2.06-.94 2.06-2.06.94zm-11 1L8.5 8.5l.94-2.06 2.06-.94-2.06-.94L8.5 2.5l-.94 2.06-2.06.94zm10 10l.94 2.06.94-2.06 2.06-.94-2.06-.94-.94-2.06-.94 2.06-2.06.94z\"/><path d=\"M17.41 7.96l-1.37-1.37c-.4-.4-.92-.59-1.43-.59-.52 0-1.04.2-1.43.59L10.3 9.45l-7.72 7.72c-.78.78-.78 2.05 0 2.83L4 21.41c.39.39.9.59 1.41.59.51 0 1.02-.2 1.41-.59l7.78-7.78 2.81-2.81c.8-.78.8-2.07 0-2.86zM5.41 20L4 18.59l7.72-7.72 1.47 1.35L5.41 20z\"/>\n",
              "  </svg>\n",
              "      </button>\n",
              "      \n",
              "  <style>\n",
              "    .colab-df-container {\n",
              "      display:flex;\n",
              "      flex-wrap:wrap;\n",
              "      gap: 12px;\n",
              "    }\n",
              "\n",
              "    .colab-df-convert {\n",
              "      background-color: #E8F0FE;\n",
              "      border: none;\n",
              "      border-radius: 50%;\n",
              "      cursor: pointer;\n",
              "      display: none;\n",
              "      fill: #1967D2;\n",
              "      height: 32px;\n",
              "      padding: 0 0 0 0;\n",
              "      width: 32px;\n",
              "    }\n",
              "\n",
              "    .colab-df-convert:hover {\n",
              "      background-color: #E2EBFA;\n",
              "      box-shadow: 0px 1px 2px rgba(60, 64, 67, 0.3), 0px 1px 3px 1px rgba(60, 64, 67, 0.15);\n",
              "      fill: #174EA6;\n",
              "    }\n",
              "\n",
              "    [theme=dark] .colab-df-convert {\n",
              "      background-color: #3B4455;\n",
              "      fill: #D2E3FC;\n",
              "    }\n",
              "\n",
              "    [theme=dark] .colab-df-convert:hover {\n",
              "      background-color: #434B5C;\n",
              "      box-shadow: 0px 1px 3px 1px rgba(0, 0, 0, 0.15);\n",
              "      filter: drop-shadow(0px 1px 2px rgba(0, 0, 0, 0.3));\n",
              "      fill: #FFFFFF;\n",
              "    }\n",
              "  </style>\n",
              "\n",
              "      <script>\n",
              "        const buttonEl =\n",
              "          document.querySelector('#df-7a537042-c57f-482e-ada8-4729e856c490 button.colab-df-convert');\n",
              "        buttonEl.style.display =\n",
              "          google.colab.kernel.accessAllowed ? 'block' : 'none';\n",
              "\n",
              "        async function convertToInteractive(key) {\n",
              "          const element = document.querySelector('#df-7a537042-c57f-482e-ada8-4729e856c490');\n",
              "          const dataTable =\n",
              "            await google.colab.kernel.invokeFunction('convertToInteractive',\n",
              "                                                     [key], {});\n",
              "          if (!dataTable) return;\n",
              "\n",
              "          const docLinkHtml = 'Like what you see? Visit the ' +\n",
              "            '<a target=\"_blank\" href=https://colab.research.google.com/notebooks/data_table.ipynb>data table notebook</a>'\n",
              "            + ' to learn more about interactive tables.';\n",
              "          element.innerHTML = '';\n",
              "          dataTable['output_type'] = 'display_data';\n",
              "          await google.colab.output.renderOutput(dataTable, element);\n",
              "          const docLink = document.createElement('div');\n",
              "          docLink.innerHTML = docLinkHtml;\n",
              "          element.appendChild(docLink);\n",
              "        }\n",
              "      </script>\n",
              "    </div>\n",
              "  </div>\n",
              "  "
            ]
          },
          "metadata": {},
          "execution_count": 5
        }
      ]
    },
    {
      "cell_type": "code",
      "source": [
        "feature_names = [\"Area\",\"No. of Bedrooms\",\"Wardrobe\",\"AC\",\"Playground\"]\n",
        "# feature_names = [\"Area\"]\n",
        "\n",
        "X = df[feature_names]\n",
        "y = df[\"Price\"]"
      ],
      "metadata": {
        "id": "IeKBVrCbsXeF"
      },
      "id": "IeKBVrCbsXeF",
      "execution_count": null,
      "outputs": []
    },
    {
      "cell_type": "code",
      "source": [
        "def scaledf(params):\n",
        "  for i in params:\n",
        "    scale_max = df[i].max()\n",
        "    scale_min = df[i].min()\n",
        "    df[i] = (df[i] - scale_min)/(scale_max-scale_min) "
      ],
      "metadata": {
        "id": "267GQDwu8RxE"
      },
      "id": "267GQDwu8RxE",
      "execution_count": null,
      "outputs": []
    },
    {
      "cell_type": "code",
      "source": [
        "scale_max = y.max()\n",
        "scale_min = y.min()\n",
        "scaledf(feature_names)\n",
        "scaledf([\"Price\"])"
      ],
      "metadata": {
        "id": "qrMsOpMU8wuv"
      },
      "id": "qrMsOpMU8wuv",
      "execution_count": null,
      "outputs": []
    },
    {
      "cell_type": "code",
      "source": [
        "df.describe()"
      ],
      "metadata": {
        "id": "opGBWag_9C0s",
        "colab": {
          "base_uri": "https://localhost:8080/",
          "height": 411
        },
        "outputId": "84f6cf73-0016-4b59-eb5f-8c6559edc1f4"
      },
      "id": "opGBWag_9C0s",
      "execution_count": null,
      "outputs": [
        {
          "output_type": "execute_result",
          "data": {
            "text/plain": [
              "             Price         Area  No. of Bedrooms       Resale  \\\n",
              "count  6950.000000  6950.000000      6950.000000  6950.000000   \n",
              "mean      0.446763     0.313262         0.302986     0.254820   \n",
              "std       0.263386     0.125547         0.162413     0.435791   \n",
              "min       0.000000     0.000000         0.000000     0.000000   \n",
              "25%       0.237500     0.217857         0.250000     0.000000   \n",
              "50%       0.406437     0.314286         0.250000     0.000000   \n",
              "75%       0.647437     0.391071         0.500000     1.000000   \n",
              "max       1.000000     1.000000         1.000000     1.000000   \n",
              "\n",
              "       MaintenanceStaff    Gymnasium  SwimmingPool  LandscapedGardens  \\\n",
              "count       6950.000000  6950.000000   6950.000000        6950.000000   \n",
              "mean           0.128633     0.462158      0.358129           0.293525   \n",
              "std            0.334817     0.498602      0.479485           0.455410   \n",
              "min            0.000000     0.000000      0.000000           0.000000   \n",
              "25%            0.000000     0.000000      0.000000           0.000000   \n",
              "50%            0.000000     0.000000      0.000000           0.000000   \n",
              "75%            0.000000     1.000000      1.000000           1.000000   \n",
              "max            1.000000     1.000000      1.000000           1.000000   \n",
              "\n",
              "       JoggingTrack  RainWaterHarvesting  ...          BED  VaastuCompliant  \\\n",
              "count   6950.000000          6950.000000  ...  6950.000000      6950.000000   \n",
              "mean       0.286619             0.308345  ...     0.067626         0.259568   \n",
              "std        0.452214             0.461843  ...     0.251121         0.438429   \n",
              "min        0.000000             0.000000  ...     0.000000         0.000000   \n",
              "25%        0.000000             0.000000  ...     0.000000         0.000000   \n",
              "50%        0.000000             0.000000  ...     0.000000         0.000000   \n",
              "75%        1.000000             1.000000  ...     0.000000         1.000000   \n",
              "max        1.000000             1.000000  ...     1.000000         1.000000   \n",
              "\n",
              "         Microwave   GolfCourse           TV  DiningTable         Sofa  \\\n",
              "count  6950.000000  6950.000000  6950.000000  6950.000000  6950.000000   \n",
              "mean      0.030072     0.014532     0.036115     0.035108     0.032806   \n",
              "std       0.170798     0.119680     0.186590     0.184066     0.178141   \n",
              "min       0.000000     0.000000     0.000000     0.000000     0.000000   \n",
              "25%       0.000000     0.000000     0.000000     0.000000     0.000000   \n",
              "50%       0.000000     0.000000     0.000000     0.000000     0.000000   \n",
              "75%       0.000000     0.000000     0.000000     0.000000     0.000000   \n",
              "max       1.000000     1.000000     1.000000     1.000000     1.000000   \n",
              "\n",
              "          Wardrobe  Refrigerator   Playground  \n",
              "count  6950.000000   6950.000000  6950.000000  \n",
              "mean      0.012518      0.033669     0.433381  \n",
              "std       0.111189      0.180389     0.495578  \n",
              "min       0.000000      0.000000     0.000000  \n",
              "25%       0.000000      0.000000     0.000000  \n",
              "50%       0.000000      0.000000     0.000000  \n",
              "75%       0.000000      0.000000     1.000000  \n",
              "max       1.000000      1.000000     1.000000  \n",
              "\n",
              "[8 rows x 39 columns]"
            ],
            "text/html": [
              "\n",
              "  <div id=\"df-b92aa0de-d89a-4c39-985a-4f70c3367590\">\n",
              "    <div class=\"colab-df-container\">\n",
              "      <div>\n",
              "<style scoped>\n",
              "    .dataframe tbody tr th:only-of-type {\n",
              "        vertical-align: middle;\n",
              "    }\n",
              "\n",
              "    .dataframe tbody tr th {\n",
              "        vertical-align: top;\n",
              "    }\n",
              "\n",
              "    .dataframe thead th {\n",
              "        text-align: right;\n",
              "    }\n",
              "</style>\n",
              "<table border=\"1\" class=\"dataframe\">\n",
              "  <thead>\n",
              "    <tr style=\"text-align: right;\">\n",
              "      <th></th>\n",
              "      <th>Price</th>\n",
              "      <th>Area</th>\n",
              "      <th>No. of Bedrooms</th>\n",
              "      <th>Resale</th>\n",
              "      <th>MaintenanceStaff</th>\n",
              "      <th>Gymnasium</th>\n",
              "      <th>SwimmingPool</th>\n",
              "      <th>LandscapedGardens</th>\n",
              "      <th>JoggingTrack</th>\n",
              "      <th>RainWaterHarvesting</th>\n",
              "      <th>...</th>\n",
              "      <th>BED</th>\n",
              "      <th>VaastuCompliant</th>\n",
              "      <th>Microwave</th>\n",
              "      <th>GolfCourse</th>\n",
              "      <th>TV</th>\n",
              "      <th>DiningTable</th>\n",
              "      <th>Sofa</th>\n",
              "      <th>Wardrobe</th>\n",
              "      <th>Refrigerator</th>\n",
              "      <th>Playground</th>\n",
              "    </tr>\n",
              "  </thead>\n",
              "  <tbody>\n",
              "    <tr>\n",
              "      <th>count</th>\n",
              "      <td>6950.000000</td>\n",
              "      <td>6950.000000</td>\n",
              "      <td>6950.000000</td>\n",
              "      <td>6950.000000</td>\n",
              "      <td>6950.000000</td>\n",
              "      <td>6950.000000</td>\n",
              "      <td>6950.000000</td>\n",
              "      <td>6950.000000</td>\n",
              "      <td>6950.000000</td>\n",
              "      <td>6950.000000</td>\n",
              "      <td>...</td>\n",
              "      <td>6950.000000</td>\n",
              "      <td>6950.000000</td>\n",
              "      <td>6950.000000</td>\n",
              "      <td>6950.000000</td>\n",
              "      <td>6950.000000</td>\n",
              "      <td>6950.000000</td>\n",
              "      <td>6950.000000</td>\n",
              "      <td>6950.000000</td>\n",
              "      <td>6950.000000</td>\n",
              "      <td>6950.000000</td>\n",
              "    </tr>\n",
              "    <tr>\n",
              "      <th>mean</th>\n",
              "      <td>0.446763</td>\n",
              "      <td>0.313262</td>\n",
              "      <td>0.302986</td>\n",
              "      <td>0.254820</td>\n",
              "      <td>0.128633</td>\n",
              "      <td>0.462158</td>\n",
              "      <td>0.358129</td>\n",
              "      <td>0.293525</td>\n",
              "      <td>0.286619</td>\n",
              "      <td>0.308345</td>\n",
              "      <td>...</td>\n",
              "      <td>0.067626</td>\n",
              "      <td>0.259568</td>\n",
              "      <td>0.030072</td>\n",
              "      <td>0.014532</td>\n",
              "      <td>0.036115</td>\n",
              "      <td>0.035108</td>\n",
              "      <td>0.032806</td>\n",
              "      <td>0.012518</td>\n",
              "      <td>0.033669</td>\n",
              "      <td>0.433381</td>\n",
              "    </tr>\n",
              "    <tr>\n",
              "      <th>std</th>\n",
              "      <td>0.263386</td>\n",
              "      <td>0.125547</td>\n",
              "      <td>0.162413</td>\n",
              "      <td>0.435791</td>\n",
              "      <td>0.334817</td>\n",
              "      <td>0.498602</td>\n",
              "      <td>0.479485</td>\n",
              "      <td>0.455410</td>\n",
              "      <td>0.452214</td>\n",
              "      <td>0.461843</td>\n",
              "      <td>...</td>\n",
              "      <td>0.251121</td>\n",
              "      <td>0.438429</td>\n",
              "      <td>0.170798</td>\n",
              "      <td>0.119680</td>\n",
              "      <td>0.186590</td>\n",
              "      <td>0.184066</td>\n",
              "      <td>0.178141</td>\n",
              "      <td>0.111189</td>\n",
              "      <td>0.180389</td>\n",
              "      <td>0.495578</td>\n",
              "    </tr>\n",
              "    <tr>\n",
              "      <th>min</th>\n",
              "      <td>0.000000</td>\n",
              "      <td>0.000000</td>\n",
              "      <td>0.000000</td>\n",
              "      <td>0.000000</td>\n",
              "      <td>0.000000</td>\n",
              "      <td>0.000000</td>\n",
              "      <td>0.000000</td>\n",
              "      <td>0.000000</td>\n",
              "      <td>0.000000</td>\n",
              "      <td>0.000000</td>\n",
              "      <td>...</td>\n",
              "      <td>0.000000</td>\n",
              "      <td>0.000000</td>\n",
              "      <td>0.000000</td>\n",
              "      <td>0.000000</td>\n",
              "      <td>0.000000</td>\n",
              "      <td>0.000000</td>\n",
              "      <td>0.000000</td>\n",
              "      <td>0.000000</td>\n",
              "      <td>0.000000</td>\n",
              "      <td>0.000000</td>\n",
              "    </tr>\n",
              "    <tr>\n",
              "      <th>25%</th>\n",
              "      <td>0.237500</td>\n",
              "      <td>0.217857</td>\n",
              "      <td>0.250000</td>\n",
              "      <td>0.000000</td>\n",
              "      <td>0.000000</td>\n",
              "      <td>0.000000</td>\n",
              "      <td>0.000000</td>\n",
              "      <td>0.000000</td>\n",
              "      <td>0.000000</td>\n",
              "      <td>0.000000</td>\n",
              "      <td>...</td>\n",
              "      <td>0.000000</td>\n",
              "      <td>0.000000</td>\n",
              "      <td>0.000000</td>\n",
              "      <td>0.000000</td>\n",
              "      <td>0.000000</td>\n",
              "      <td>0.000000</td>\n",
              "      <td>0.000000</td>\n",
              "      <td>0.000000</td>\n",
              "      <td>0.000000</td>\n",
              "      <td>0.000000</td>\n",
              "    </tr>\n",
              "    <tr>\n",
              "      <th>50%</th>\n",
              "      <td>0.406437</td>\n",
              "      <td>0.314286</td>\n",
              "      <td>0.250000</td>\n",
              "      <td>0.000000</td>\n",
              "      <td>0.000000</td>\n",
              "      <td>0.000000</td>\n",
              "      <td>0.000000</td>\n",
              "      <td>0.000000</td>\n",
              "      <td>0.000000</td>\n",
              "      <td>0.000000</td>\n",
              "      <td>...</td>\n",
              "      <td>0.000000</td>\n",
              "      <td>0.000000</td>\n",
              "      <td>0.000000</td>\n",
              "      <td>0.000000</td>\n",
              "      <td>0.000000</td>\n",
              "      <td>0.000000</td>\n",
              "      <td>0.000000</td>\n",
              "      <td>0.000000</td>\n",
              "      <td>0.000000</td>\n",
              "      <td>0.000000</td>\n",
              "    </tr>\n",
              "    <tr>\n",
              "      <th>75%</th>\n",
              "      <td>0.647437</td>\n",
              "      <td>0.391071</td>\n",
              "      <td>0.500000</td>\n",
              "      <td>1.000000</td>\n",
              "      <td>0.000000</td>\n",
              "      <td>1.000000</td>\n",
              "      <td>1.000000</td>\n",
              "      <td>1.000000</td>\n",
              "      <td>1.000000</td>\n",
              "      <td>1.000000</td>\n",
              "      <td>...</td>\n",
              "      <td>0.000000</td>\n",
              "      <td>1.000000</td>\n",
              "      <td>0.000000</td>\n",
              "      <td>0.000000</td>\n",
              "      <td>0.000000</td>\n",
              "      <td>0.000000</td>\n",
              "      <td>0.000000</td>\n",
              "      <td>0.000000</td>\n",
              "      <td>0.000000</td>\n",
              "      <td>1.000000</td>\n",
              "    </tr>\n",
              "    <tr>\n",
              "      <th>max</th>\n",
              "      <td>1.000000</td>\n",
              "      <td>1.000000</td>\n",
              "      <td>1.000000</td>\n",
              "      <td>1.000000</td>\n",
              "      <td>1.000000</td>\n",
              "      <td>1.000000</td>\n",
              "      <td>1.000000</td>\n",
              "      <td>1.000000</td>\n",
              "      <td>1.000000</td>\n",
              "      <td>1.000000</td>\n",
              "      <td>...</td>\n",
              "      <td>1.000000</td>\n",
              "      <td>1.000000</td>\n",
              "      <td>1.000000</td>\n",
              "      <td>1.000000</td>\n",
              "      <td>1.000000</td>\n",
              "      <td>1.000000</td>\n",
              "      <td>1.000000</td>\n",
              "      <td>1.000000</td>\n",
              "      <td>1.000000</td>\n",
              "      <td>1.000000</td>\n",
              "    </tr>\n",
              "  </tbody>\n",
              "</table>\n",
              "<p>8 rows × 39 columns</p>\n",
              "</div>\n",
              "      <button class=\"colab-df-convert\" onclick=\"convertToInteractive('df-b92aa0de-d89a-4c39-985a-4f70c3367590')\"\n",
              "              title=\"Convert this dataframe to an interactive table.\"\n",
              "              style=\"display:none;\">\n",
              "        \n",
              "  <svg xmlns=\"http://www.w3.org/2000/svg\" height=\"24px\"viewBox=\"0 0 24 24\"\n",
              "       width=\"24px\">\n",
              "    <path d=\"M0 0h24v24H0V0z\" fill=\"none\"/>\n",
              "    <path d=\"M18.56 5.44l.94 2.06.94-2.06 2.06-.94-2.06-.94-.94-2.06-.94 2.06-2.06.94zm-11 1L8.5 8.5l.94-2.06 2.06-.94-2.06-.94L8.5 2.5l-.94 2.06-2.06.94zm10 10l.94 2.06.94-2.06 2.06-.94-2.06-.94-.94-2.06-.94 2.06-2.06.94z\"/><path d=\"M17.41 7.96l-1.37-1.37c-.4-.4-.92-.59-1.43-.59-.52 0-1.04.2-1.43.59L10.3 9.45l-7.72 7.72c-.78.78-.78 2.05 0 2.83L4 21.41c.39.39.9.59 1.41.59.51 0 1.02-.2 1.41-.59l7.78-7.78 2.81-2.81c.8-.78.8-2.07 0-2.86zM5.41 20L4 18.59l7.72-7.72 1.47 1.35L5.41 20z\"/>\n",
              "  </svg>\n",
              "      </button>\n",
              "      \n",
              "  <style>\n",
              "    .colab-df-container {\n",
              "      display:flex;\n",
              "      flex-wrap:wrap;\n",
              "      gap: 12px;\n",
              "    }\n",
              "\n",
              "    .colab-df-convert {\n",
              "      background-color: #E8F0FE;\n",
              "      border: none;\n",
              "      border-radius: 50%;\n",
              "      cursor: pointer;\n",
              "      display: none;\n",
              "      fill: #1967D2;\n",
              "      height: 32px;\n",
              "      padding: 0 0 0 0;\n",
              "      width: 32px;\n",
              "    }\n",
              "\n",
              "    .colab-df-convert:hover {\n",
              "      background-color: #E2EBFA;\n",
              "      box-shadow: 0px 1px 2px rgba(60, 64, 67, 0.3), 0px 1px 3px 1px rgba(60, 64, 67, 0.15);\n",
              "      fill: #174EA6;\n",
              "    }\n",
              "\n",
              "    [theme=dark] .colab-df-convert {\n",
              "      background-color: #3B4455;\n",
              "      fill: #D2E3FC;\n",
              "    }\n",
              "\n",
              "    [theme=dark] .colab-df-convert:hover {\n",
              "      background-color: #434B5C;\n",
              "      box-shadow: 0px 1px 3px 1px rgba(0, 0, 0, 0.15);\n",
              "      filter: drop-shadow(0px 1px 2px rgba(0, 0, 0, 0.3));\n",
              "      fill: #FFFFFF;\n",
              "    }\n",
              "  </style>\n",
              "\n",
              "      <script>\n",
              "        const buttonEl =\n",
              "          document.querySelector('#df-b92aa0de-d89a-4c39-985a-4f70c3367590 button.colab-df-convert');\n",
              "        buttonEl.style.display =\n",
              "          google.colab.kernel.accessAllowed ? 'block' : 'none';\n",
              "\n",
              "        async function convertToInteractive(key) {\n",
              "          const element = document.querySelector('#df-b92aa0de-d89a-4c39-985a-4f70c3367590');\n",
              "          const dataTable =\n",
              "            await google.colab.kernel.invokeFunction('convertToInteractive',\n",
              "                                                     [key], {});\n",
              "          if (!dataTable) return;\n",
              "\n",
              "          const docLinkHtml = 'Like what you see? Visit the ' +\n",
              "            '<a target=\"_blank\" href=https://colab.research.google.com/notebooks/data_table.ipynb>data table notebook</a>'\n",
              "            + ' to learn more about interactive tables.';\n",
              "          element.innerHTML = '';\n",
              "          dataTable['output_type'] = 'display_data';\n",
              "          await google.colab.output.renderOutput(dataTable, element);\n",
              "          const docLink = document.createElement('div');\n",
              "          docLink.innerHTML = docLinkHtml;\n",
              "          element.appendChild(docLink);\n",
              "        }\n",
              "      </script>\n",
              "    </div>\n",
              "  </div>\n",
              "  "
            ]
          },
          "metadata": {},
          "execution_count": 9
        }
      ]
    },
    {
      "cell_type": "code",
      "source": [
        "from sklearn.model_selection import train_test_split\n",
        "\n",
        "train_X, val_X, train_y, val_y = train_test_split(X, y, random_state=85,test_size=0.2)"
      ],
      "metadata": {
        "id": "eeBQi7B0i1Mx"
      },
      "id": "eeBQi7B0i1Mx",
      "execution_count": null,
      "outputs": []
    },
    {
      "cell_type": "code",
      "source": [
        "len(train_X)"
      ],
      "metadata": {
        "colab": {
          "base_uri": "https://localhost:8080/"
        },
        "id": "lqfGrClNjTKi",
        "outputId": "c4f1b88e-4ac7-493e-8194-00a81c6d1e97"
      },
      "id": "lqfGrClNjTKi",
      "execution_count": null,
      "outputs": [
        {
          "output_type": "execute_result",
          "data": {
            "text/plain": [
              "5560"
            ]
          },
          "metadata": {},
          "execution_count": 11
        }
      ]
    },
    {
      "cell_type": "code",
      "source": [
        "train_x = torch.tensor(train_X.values, dtype=torch.float, device=device)\n",
        "train_y = torch.tensor(train_y.values, dtype=torch.float, device=device)\n",
        "val_x = torch.tensor(val_X.values, dtype=torch.float, device=device)\n",
        "val_y = torch.tensor(val_y.values, dtype=torch.float, device=device)"
      ],
      "metadata": {
        "id": "FecYURzVzw6D"
      },
      "id": "FecYURzVzw6D",
      "execution_count": null,
      "outputs": []
    },
    {
      "cell_type": "code",
      "execution_count": null,
      "metadata": {
        "colab": {
          "base_uri": "https://localhost:8080/"
        },
        "id": "3bdce3d8",
        "outputId": "17d886a6-930e-46b3-de38-3ee9599ce445"
      },
      "outputs": [
        {
          "output_type": "execute_result",
          "data": {
            "text/plain": [
              "Sequential(\n",
              "  (0): Linear(in_features=5, out_features=50, bias=True)\n",
              "  (1): ReLU()\n",
              "  (2): Linear(in_features=50, out_features=50, bias=True)\n",
              "  (3): ReLU()\n",
              "  (4): Linear(in_features=50, out_features=1, bias=True)\n",
              ")"
            ]
          },
          "metadata": {},
          "execution_count": 20
        }
      ],
      "source": [
        "from torch.nn.modules.activation import ReLU\n",
        "\n",
        "model = nn.Sequential(\n",
        "        nn.Linear(5,50),\n",
        "        nn.ReLU(),\n",
        "        nn.Linear(50,50),\n",
        "        nn.ReLU(),\n",
        "        nn.Linear(50,1),\n",
        "    )\n",
        "\n",
        "model.to(device)"
      ],
      "id": "3bdce3d8"
    },
    {
      "cell_type": "code",
      "source": [
        "import torch.optim as opm\n",
        "from torch.utils.data import DataLoader, TensorDataset\n",
        "\n",
        "criterion = torch.nn.L1Loss()\n",
        "\n",
        "optimizer = opm.Adam(model.parameters(), lr=0.005)\n",
        "\n",
        "model = model.to(device)\n",
        "criterion = criterion.to(device)\n",
        "\n",
        "dataset = TensorDataset(train_x, train_y)\n",
        "dataloader = DataLoader(dataset, batch_size=8192)\n",
        "\n",
        "for epoch in range(50):\n",
        "    totalLoss = 0\n",
        "    for x_batch, y_batch in dataloader:\n",
        "        ypred = model(x_batch)\n",
        "        loss = criterion(ypred, y_batch)\n",
        "        totalLoss += loss.item()/100\n",
        "        optimizer.zero_grad()\n",
        "        loss.backward()\n",
        "        optimizer.step()\n",
        "print(\"MAPE:\",totalLoss)"
      ],
      "metadata": {
        "colab": {
          "base_uri": "https://localhost:8080/"
        },
        "id": "3rtTOYSUVR1p",
        "outputId": "67ce2e5d-7772-49c9-c841-14e2c23149d5"
      },
      "id": "3rtTOYSUVR1p",
      "execution_count": null,
      "outputs": [
        {
          "output_type": "stream",
          "name": "stdout",
          "text": [
            "MAPE: 0.0022080418467521666\n"
          ]
        }
      ]
    },
    {
      "cell_type": "code",
      "source": [
        "torch.save(model,\"HP_FINAL\")"
      ],
      "metadata": {
        "id": "F3jfY96QRFh7"
      },
      "id": "F3jfY96QRFh7",
      "execution_count": null,
      "outputs": []
    },
    {
      "cell_type": "code",
      "source": [
        "from torch.utils.data import DataLoader\n",
        "\n",
        "\n",
        "dataset = TensorDataset(val_x, val_y)\n",
        "val_loader = DataLoader(dataset, batch_size=8192)\n",
        "\n",
        "correct = 0\n",
        "totalLoss = 0\n",
        "\n",
        "with torch.no_grad():\n",
        "    for x_batch, y_batch in val_loader:\n",
        "        x_batch, y_batch = x_batch.to(device), y_batch.to(device)\n",
        "        outputs = model(x_batch)\n",
        "        # pred_max = outputs.max()\n",
        "        # pred_min = outputs.min()\n",
        "        # outputs = (outputs-pred_min)/(pred_max-pred_min)\n",
        "        # pred_max_y_batch = y_batch.max()\n",
        "        # pred_min_y_batch = y_batch.min()\n",
        "        # y_batch = (y_batch-pred_min_y_batch)/(pred_max_y_batch-pred_min_y_batch)\n",
        "        # print(outputs)\n",
        "        # break\n",
        "        # print(pred_max,pred_min)\n",
        "        loss = criterion(outputs, y_batch)\n",
        "        totalLoss += loss.item()/100\n",
        "\n",
        "print(\"Validation MAPE:\",totalLoss)"
      ],
      "metadata": {
        "colab": {
          "base_uri": "https://localhost:8080/"
        },
        "id": "sHhoqwAAh1xd",
        "outputId": "faa8108d-2ada-4ec9-eefd-e331af4f84f1"
      },
      "id": "sHhoqwAAh1xd",
      "execution_count": null,
      "outputs": [
        {
          "output_type": "stream",
          "name": "stdout",
          "text": [
            "MAPE: 0.0022329461574554445\n"
          ]
        }
      ]
    },
    {
      "cell_type": "code",
      "source": [
        "# i = 4121\n",
        "# print(y[i],model(x[i]))"
      ],
      "metadata": {
        "colab": {
          "base_uri": "https://localhost:8080/"
        },
        "id": "XR9uDm_x-paY",
        "outputId": "1d2b1763-d317-4525-ab7a-1aab90abced6"
      },
      "id": "XR9uDm_x-paY",
      "execution_count": null,
      "outputs": [
        {
          "output_type": "stream",
          "name": "stdout",
          "text": [
            "0.0687499999999999 tensor([0.4066], device='cuda:0', grad_fn=<AddBackward0>)\n"
          ]
        }
      ]
    },
    {
      "cell_type": "code",
      "execution_count": null,
      "metadata": {
        "id": "2e85c01b",
        "outputId": "24fd83a0-96b5-41f6-f666-5c4400c98f09",
        "scrolled": true
      },
      "outputs": [
        {
          "data": {
            "image/png": "[encoded data removed]",
            "text/plain": [
              "<Figure size 640x480 with 1 Axes>"
            ]
          },
          "metadata": {},
          "output_type": "display_data"
        },
        {
          "data": {
            "text/plain": [
              "<Figure size 400x100 with 0 Axes>"
            ]
          },
          "metadata": {},
          "output_type": "display_data"
        }
      ],
      "source": [
        "# graphPredictions(model, x, y,0,0.15)\n",
        "# f = plt.figure()\n",
        "# f.set_figwidth(4)\n",
        "# f.set_figheight(1)\n",
        "\n",
        "# plt.show()"
      ],
      "id": "2e85c01b"
    },
    {
      "cell_type": "code",
      "execution_count": null,
      "metadata": {
        "id": "6e0e5fb4",
        "colab": {
          "base_uri": "https://localhost:8080/"
        },
        "outputId": "837760fc-a755-4aec-c8c2-7dfee34597da"
      },
      "outputs": [
        {
          "output_type": "stream",
          "name": "stdout",
          "text": [
            "Enter Value to predict price :\n",
            "Enter value for Area:\n",
            "200\n",
            "Enter value for No. of Bedrooms:\n",
            "3\n",
            "Enter value for Wardrobe:\n",
            "1\n",
            "Enter value for AC:\n",
            "0\n",
            "Enter value for Playground:\n",
            "0\n",
            "Price Predicted:12.477222442626953\n"
          ]
        }
      ],
      "source": [
        "a=[]\n",
        "print(\"Enter Value to predict price :\")\n",
        "for i in feature_names:\n",
        "  print(f\"Enter value for {i}:\")\n",
        "  a.append(int(input()))\n",
        "\n",
        "test_p = torch.tensor([a], dtype=torch.float, device=device)\n",
        "\n",
        "k = model(test_p) \n",
        "a=k.tolist()\n",
        "a=float(a[0][0])*(scale_max-scale_min) + scale_min\n",
        "print(f\"Price Predicted:{a}\")"
      ],
      "id": "6e0e5fb4"
    }
  ],
  "metadata": {
    "accelerator": "GPU",
    "colab": {
      "provenance": []
    },
    "gpuClass": "standard",
    "kernelspec": {
      "display_name": "Python 3 (ipykernel)",
      "language": "python",
      "name": "python3"
    },
    "language_info": {
      "codemirror_mode": {
        "name": "ipython",
        "version": 3
      },
      "file_extension": ".py",
      "mimetype": "text/x-python",
      "name": "python",
      "nbconvert_exporter": "python",
      "pygments_lexer": "ipython3",
      "version": "3.9.13"
    }
  },
  "nbformat": 4,
  "nbformat_minor": 5
}